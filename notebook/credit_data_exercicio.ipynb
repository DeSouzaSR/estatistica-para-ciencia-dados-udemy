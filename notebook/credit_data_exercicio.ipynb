{
 "cells": [
  {
   "cell_type": "markdown",
   "id": "12deb527-17ec-4a68-87ff-9cb2b873d3f2",
   "metadata": {},
   "source": [
    "# Exercício\n",
    "\n",
    "O objetivo deste exercício é utilizar outra base de dados para testar as amostragens e comparar os resultados\n",
    "\n",
    "Faça o download e carregue a base de dados credit_data.csv, que possui informações sobre empréstimos (se o cliente pagará ou não pagará o empréstimo)\n",
    "\n",
    "- Teste cada uma das técnicas de amostragem, selecionando 1000 registros\n",
    "- Para a amostragem estratificada, utilize o atributo `c#default` para separar as categorias\n",
    "- No final, faça o comparativo da média utilizando os atributos `age`, `income` e `loan`"
   ]
  },
  {
   "cell_type": "markdown",
   "id": "482f830a-8b47-4e43-9ecc-4dd3e31cca06",
   "metadata": {},
   "source": [
    "## Importando os módulos"
   ]
  },
  {
   "cell_type": "code",
   "execution_count": 3,
   "id": "515fe226-04fc-47ec-a03d-d32d8bf635f2",
   "metadata": {},
   "outputs": [],
   "source": [
    "import pandas as pd\n",
    "import sys\n",
    "sys.path.insert(1, '../src')\n",
    "\n",
    "from amostragem import amostra_aleatoria_simples, \\\n",
    "    amostragem_sistematica, \\\n",
    "    amostragem_estratificada, \\\n",
    "    amostragem_agrupamento, \\\n",
    "    amostragem_reservatorio"
   ]
  },
  {
   "cell_type": "markdown",
   "id": "91111fac-9b30-422e-8bc0-3901e2fbd4de",
   "metadata": {},
   "source": [
    "## Leitura da base de dados"
   ]
  },
  {
   "cell_type": "code",
   "execution_count": 4,
   "id": "fd044240-c049-41e3-8604-2230b985212c",
   "metadata": {},
   "outputs": [],
   "source": [
    "dataset = pd.read_csv(\"../data/raw_data/credit_data.csv\")\n",
    "n_amostras = 100"
   ]
  },
  {
   "cell_type": "code",
   "execution_count": 5,
   "id": "7d39db88-abea-4203-9eb5-6e25f6d80c8a",
   "metadata": {},
   "outputs": [
    {
     "data": {
      "text/html": [
       "<div>\n",
       "<style scoped>\n",
       "    .dataframe tbody tr th:only-of-type {\n",
       "        vertical-align: middle;\n",
       "    }\n",
       "\n",
       "    .dataframe tbody tr th {\n",
       "        vertical-align: top;\n",
       "    }\n",
       "\n",
       "    .dataframe thead th {\n",
       "        text-align: right;\n",
       "    }\n",
       "</style>\n",
       "<table border=\"1\" class=\"dataframe\">\n",
       "  <thead>\n",
       "    <tr style=\"text-align: right;\">\n",
       "      <th></th>\n",
       "      <th>i#clientid</th>\n",
       "      <th>income</th>\n",
       "      <th>age</th>\n",
       "      <th>loan</th>\n",
       "      <th>c#default</th>\n",
       "    </tr>\n",
       "  </thead>\n",
       "  <tbody>\n",
       "    <tr>\n",
       "      <th>0</th>\n",
       "      <td>1</td>\n",
       "      <td>66155.925095</td>\n",
       "      <td>59.017015</td>\n",
       "      <td>8106.532131</td>\n",
       "      <td>0</td>\n",
       "    </tr>\n",
       "    <tr>\n",
       "      <th>1</th>\n",
       "      <td>2</td>\n",
       "      <td>34415.153966</td>\n",
       "      <td>48.117153</td>\n",
       "      <td>6564.745018</td>\n",
       "      <td>0</td>\n",
       "    </tr>\n",
       "    <tr>\n",
       "      <th>2</th>\n",
       "      <td>3</td>\n",
       "      <td>57317.170063</td>\n",
       "      <td>63.108049</td>\n",
       "      <td>8020.953296</td>\n",
       "      <td>0</td>\n",
       "    </tr>\n",
       "    <tr>\n",
       "      <th>3</th>\n",
       "      <td>4</td>\n",
       "      <td>42709.534201</td>\n",
       "      <td>45.751972</td>\n",
       "      <td>6103.642260</td>\n",
       "      <td>0</td>\n",
       "    </tr>\n",
       "    <tr>\n",
       "      <th>4</th>\n",
       "      <td>5</td>\n",
       "      <td>66952.688845</td>\n",
       "      <td>18.584336</td>\n",
       "      <td>8770.099235</td>\n",
       "      <td>1</td>\n",
       "    </tr>\n",
       "  </tbody>\n",
       "</table>\n",
       "</div>"
      ],
      "text/plain": [
       "   i#clientid        income        age         loan  c#default\n",
       "0           1  66155.925095  59.017015  8106.532131          0\n",
       "1           2  34415.153966  48.117153  6564.745018          0\n",
       "2           3  57317.170063  63.108049  8020.953296          0\n",
       "3           4  42709.534201  45.751972  6103.642260          0\n",
       "4           5  66952.688845  18.584336  8770.099235          1"
      ]
     },
     "execution_count": 5,
     "metadata": {},
     "output_type": "execute_result"
    }
   ],
   "source": [
    "dataset.head()"
   ]
  },
  {
   "cell_type": "code",
   "execution_count": 6,
   "id": "c8584970-ccae-4400-a80b-e6b4cfe5b230",
   "metadata": {},
   "outputs": [
    {
     "data": {
      "text/plain": [
       "(2000, 5)"
      ]
     },
     "execution_count": 6,
     "metadata": {},
     "output_type": "execute_result"
    }
   ],
   "source": [
    "dataset.shape"
   ]
  },
  {
   "cell_type": "markdown",
   "id": "80261200-15fc-4005-ab60-689fdeea46ec",
   "metadata": {},
   "source": [
    "## Comparando idades da amostra e população\n",
    "\n",
    "### Amostra aleatória simples"
   ]
  },
  {
   "cell_type": "code",
   "execution_count": 7,
   "id": "293dd673-d36b-4489-8555-d401d31e7220",
   "metadata": {},
   "outputs": [
    {
     "data": {
      "text/plain": [
       "1.034857018397716"
      ]
     },
     "execution_count": 7,
     "metadata": {},
     "output_type": "execute_result"
    }
   ],
   "source": [
    "df_amostra_aleatoria_simples = amostra_aleatoria_simples(dataset, n_amostras)\n",
    "abs(df_amostra_aleatoria_simples['age'].mean() - dataset['age'].mean())"
   ]
  },
  {
   "cell_type": "markdown",
   "id": "e28de32d-83db-447e-895b-76f5f3b16ab5",
   "metadata": {},
   "source": [
    "### Amostra sitemática"
   ]
  },
  {
   "cell_type": "code",
   "execution_count": 8,
   "id": "3df1912e-3cad-4adb-b5a2-0da025e84744",
   "metadata": {},
   "outputs": [
    {
     "data": {
      "text/plain": [
       "0.3295110520733857"
      ]
     },
     "execution_count": 8,
     "metadata": {},
     "output_type": "execute_result"
    }
   ],
   "source": [
    "df_amostra_sistematica = amostragem_sistematica(dataset, n_amostras)\n",
    "abs(df_amostra_sistematica['age'].mean() - dataset['age'].mean()) "
   ]
  },
  {
   "cell_type": "code",
   "execution_count": 9,
   "id": "c622fb49-ed3b-4430-882d-21c8dac840da",
   "metadata": {},
   "outputs": [],
   "source": [
    "df_amostra_sistematica = amostragem_sistematica(dataset, n_amostras)\n",
    "df_amostra_agrupamento = amostragem_agrupamento(dataset, n_amostras)\n",
    "df_amostra_estratificada = amostragem_estratificada(dataset, 0.5, 'c#default')\n",
    "df_amostragem_reservatorio = amostragem_reservatorio(dataset, n_amostras)"
   ]
  },
  {
   "cell_type": "code",
   "execution_count": 10,
   "id": "d4be5368-2112-4c1d-a343-a6b2cc6ea0de",
   "metadata": {},
   "outputs": [
    {
     "name": "stdout",
     "output_type": "stream",
     "text": [
      "dataset =  40.80755937840458\n",
      "df_amostra_aleatoria_simples =  41.84241639680229\n",
      "df_amostra_sistematica =  40.47804832633119\n",
      "df_amostra_agrupamento =  44.921054369259984\n",
      "df_amostra_estratificada =  40.53363707173919\n",
      "df_amostragem_reservatorio =  39.91877665568726\n"
     ]
    }
   ],
   "source": [
    "print(\"dataset = \",dataset['age'].mean())\n",
    "print(\"df_amostra_aleatoria_simples = \",df_amostra_aleatoria_simples['age'].mean())\n",
    "print(\"df_amostra_sistematica = \", df_amostra_sistematica['age'].mean())\n",
    "print(\"df_amostra_agrupamento = \", df_amostra_agrupamento['age'].mean())\n",
    "print(\"df_amostra_estratificada = \", df_amostra_estratificada['age'].mean())\n",
    "print(\"df_amostragem_reservatorio = \", df_amostragem_reservatorio['age'].mean())"
   ]
  }
 ],
 "metadata": {
  "kernelspec": {
   "display_name": "Python 3 (ipykernel)",
   "language": "python",
   "name": "python3"
  },
  "language_info": {
   "codemirror_mode": {
    "name": "ipython",
    "version": 3
   },
   "file_extension": ".py",
   "mimetype": "text/x-python",
   "name": "python",
   "nbconvert_exporter": "python",
   "pygments_lexer": "ipython3",
   "version": "3.12.4"
  }
 },
 "nbformat": 4,
 "nbformat_minor": 5
}
